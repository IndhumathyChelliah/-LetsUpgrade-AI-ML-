{
 "cells": [
  {
   "cell_type": "markdown",
   "metadata": {},
   "source": [
    "## 1. Assuming that we have some email addresses in the \"username@companyname.com\" format, please\n",
    "write a program to print the company name of a given email address. Both user names and company\n",
    "names are composed of letters only.\n",
    "Input Format:\n",
    "The first line of the input contains an email address.\n",
    "Output Format:\n",
    "Print the company name in a single line.\n",
    "Example;\n",
    "Input:\n",
    "john@google.com\n",
    "Output:\n",
    "google."
   ]
  },
  {
   "cell_type": "code",
   "execution_count": 1,
   "metadata": {},
   "outputs": [
    {
     "name": "stdout",
     "output_type": "stream",
     "text": [
      "gmail\n"
     ]
    }
   ],
   "source": [
    "def company(eid):\n",
    "    e=str(eid).split(\"@\")\n",
    "    e1=e[-1].split('.')\n",
    "    return e1[0]\n",
    "\n",
    "\n",
    "print (company(\"indhu@gmail.com\"))"
   ]
  },
  {
   "cell_type": "markdown",
   "metadata": {},
   "source": [
    "## Question 2 :\n",
    "Write a program that accepts a comma-separated sequence of words as input and prints the words in a\n",
    "comma-separated sequence after sorting them alphabetically.\n",
    "Input Format:\n",
    "The first line of input contains words separated by the comma.\n",
    "Output Format:\n",
    "Print the sorted words separated by the comma.\n",
    "Example:\n",
    "Input:\n",
    "without,hello,bag,world\n",
    "Output:\n",
    "bag,hello,without,world"
   ]
  },
  {
   "cell_type": "code",
   "execution_count": 3,
   "metadata": {},
   "outputs": [
    {
     "name": "stdout",
     "output_type": "stream",
     "text": [
      "Before sorting ('red', 'yellow', 'orange', 'purple')\n",
      "After sorting ('orange', 'purple', 'red', 'yellow')\n"
     ]
    }
   ],
   "source": [
    "def s(*a):\n",
    "    print (\"Before sorting\",a)\n",
    "    a1=sorted(a)\n",
    "    a2=tuple(a1)\n",
    "    print (\"After sorting\",a2)\n",
    "\n",
    "\n",
    "s(\"red\",\"yellow\",\"orange\",\"purple\")"
   ]
  },
  {
   "cell_type": "markdown",
   "metadata": {},
   "source": [
    "## Question 3:\n",
    "Create your own Jupyter Notebook for Sets. "
   ]
  },
  {
   "cell_type": "code",
   "execution_count": 5,
   "metadata": {},
   "outputs": [
    {
     "name": "stdout",
     "output_type": "stream",
     "text": [
      "{1, 2, 3, 4, 5}\n",
      "{'red', 'orange', 'blue'}\n",
      "{1, 2, 'bus', 'car'}\n",
      "{1, 2, 3}\n",
      "{1, 2, 3}\n",
      "set()\n"
     ]
    }
   ],
   "source": [
    "s1={1,2,3,4,5}\n",
    "print (s1)#Output: {1, 2, 3, 4, 5}\n",
    "\n",
    "s2={'red','blue','orange'}\n",
    "print (s2)#Output:{'red', 'orange', 'blue'}\n",
    "\n",
    "#set can contain different datatypesS.ets are unordered, so it will print in any order.\n",
    "s3={1,'car',2,'bus'}\n",
    "print (s3)#Output: {'car', 1, 2, 'bus'}\n",
    "\n",
    "\n",
    "# we can create set by using set() - set constructor\n",
    "s5=set([1,2,3])\n",
    "print (s5)#Output: {1, 2, 3}\n",
    "\n",
    "# set has no duplicates.\n",
    "s6={1,2,3,1,2,3,1,2,3}\n",
    "print (s6)# Output: {1, 2, 3}\n",
    "\n",
    "#we can't create empty set using {}. To create empty set we use set()\n",
    "s7=set()\n",
    "print (s7) #Output: set()\n"
   ]
  },
  {
   "cell_type": "code",
   "execution_count": 6,
   "metadata": {},
   "outputs": [
    {
     "name": "stdout",
     "output_type": "stream",
     "text": [
      "{1, 2, 3, 4}\n",
      "{1, 2, 3, 4, 5}\n",
      "{1, 2, 3, 4, 5, 6}\n"
     ]
    }
   ],
   "source": [
    "s1={1,2,3}\n",
    "#add single item to set\n",
    "s1.add(4)\n",
    "print (s1)#Output:{1, 2, 3, 4}\n",
    "#add multiple item to set\n",
    "s1.update({3,4,5})\n",
    "print (s1)#Output:{1, 2, 3, 4, 5}\n",
    "s1.update([5,6])\n",
    "print (s1)#Output:{1, 2, 3, 4, 5, 6}"
   ]
  },
  {
   "cell_type": "code",
   "execution_count": 7,
   "metadata": {},
   "outputs": [
    {
     "name": "stdout",
     "output_type": "stream",
     "text": [
      "{1, 2, 3, 4}\n",
      "{1, 2, 3}\n",
      "{1, 2, 3}\n",
      "1\n",
      "{2, 3}\n",
      "set()\n"
     ]
    }
   ],
   "source": [
    "s1={1,2,3,4,5}\n",
    "\n",
    "#remove method will remove specified element from set.\n",
    "s1.remove(5)\n",
    "print (s1) #Output:{1,2,3,4}\n",
    "\n",
    "# discard method will also remove the element from set.\n",
    "s1.discard(4)\n",
    "print (s1)#Output:{1,2,3}\n",
    "# if element specified is not set means, it will not raise an error\n",
    "s1.discard(7)\n",
    "print (s1) #Output:{1,2,3}\n",
    "\n",
    "#Since set in unordered, pop will remove any element from set.pop() method will return the removed item.\n",
    "print(s1.pop()) #Output: 1\n",
    "print (s1) #Output:{2,3}\n",
    "\n",
    "# clear() will empty the set.\n",
    "s1.clear()\n",
    "print (s1) #Output: set()"
   ]
  },
  {
   "cell_type": "code",
   "execution_count": 8,
   "metadata": {},
   "outputs": [
    {
     "name": "stdout",
     "output_type": "stream",
     "text": [
      "{1, 2, 3, 4, 5, 6, 7, 8}\n",
      "{1, 2, 3, 4, 5, 6, 7, 8}\n",
      "{4, 5}\n",
      "{4, 5}\n"
     ]
    }
   ],
   "source": [
    "s1={1,2,3,4,5}\n",
    "s2={4,5,6,7,8}\n",
    "#union by using | operator\n",
    "s3=s1|s2\n",
    "print (s3) #Output:{1, 2, 3, 4, 5, 6, 7, 8}\n",
    "# by using union() method\n",
    "s4=s1.union(s2)\n",
    "print (s4) #Output:{1, 2, 3, 4, 5, 6, 7, 8}\n",
    "#intersection using & operator\n",
    "s5=s1&s2\n",
    "print (s5) #Output:{4, 5}\n",
    "s6=s1.intersection(s2)\n",
    "print (s6) #Output: {4, 5}"
   ]
  },
  {
   "cell_type": "code",
   "execution_count": 9,
   "metadata": {},
   "outputs": [
    {
     "name": "stdout",
     "output_type": "stream",
     "text": [
      "{1, 2, 3}\n",
      "{1, 2, 3}\n",
      "{1, 2, 3}\n",
      "{4, 5, 6, 7, 8}\n"
     ]
    }
   ],
   "source": [
    "s1={1,2,3,4,5}\n",
    "s2={4,5,6,7,8}\n",
    "#difference using operator - \n",
    "s3=s1-s2\n",
    "print (s3) #Output: {1,2,3}\n",
    "s4=s1.difference(s2)\n",
    "print (s4) #Output: {1,2,3}\n",
    "\n",
    "#difference_update() will modify the original set. Return type is None.\n",
    "s1.difference_update(s2)\n",
    "print (s1) #Output: {1,2,3}\n",
    "# difference_update by using -= operator\n",
    "s2-=(s1)\n",
    "print (s2) #Output: {4,5,6,7,8}"
   ]
  },
  {
   "cell_type": "code",
   "execution_count": 10,
   "metadata": {},
   "outputs": [
    {
     "name": "stdout",
     "output_type": "stream",
     "text": [
      "{1, 2, 3, 6, 7, 8}\n",
      "{1, 2, 3, 6, 7, 8}\n",
      "None\n",
      "{1, 2, 3, 6, 7, 8}\n",
      "{1, 2, 3, 4, 5}\n"
     ]
    }
   ],
   "source": [
    "s1={1,2,3,4,5}\n",
    "s2={4,5,6,7,8}\n",
    "# symmetric_difference by using ^ operator\n",
    "s3=s1^s2\n",
    "print (s3) #Output: {1, 2, 3, 6, 7, 8}\n",
    "\n",
    "s4=s1.symmetric_difference(s2)\n",
    "print (s4) #Output:{1, 2, 3, 6, 7, 8}\n",
    "\n",
    "#symmetric_difference_update()\n",
    "\n",
    "print (s1.symmetric_difference_update(s2)) #Output: None\n",
    "print (s1) #Output: {1, 2, 3, 6, 7, 8}\n",
    "\n",
    "s2^=s1\n",
    "print (s2) #Output: {1,2,3}"
   ]
  },
  {
   "cell_type": "code",
   "execution_count": 11,
   "metadata": {},
   "outputs": [
    {
     "name": "stdout",
     "output_type": "stream",
     "text": [
      "None\n",
      "{4, 5}\n",
      "{4, 5}\n"
     ]
    }
   ],
   "source": [
    "s1={1,2,3,4,5}\n",
    "s2={4,5,6,7,8}\n",
    "print (s1.intersection_update(s2)) #Output: None\n",
    "print (s1) #Output: {4,5}\n",
    "#intersection_update() by using operator &=\n",
    "s2&=s1\n",
    "print (s2) #Output: {4,5}"
   ]
  },
  {
   "cell_type": "code",
   "execution_count": 12,
   "metadata": {},
   "outputs": [
    {
     "name": "stdout",
     "output_type": "stream",
     "text": [
      "False\n",
      "True\n",
      "False\n",
      "True\n",
      "False\n",
      "True\n"
     ]
    }
   ],
   "source": [
    "s1={1,2,3,4,5}\n",
    "s2={4,5,6,7,8}\n",
    "print (s1.isdisjoint(s2)) #Output: False\n",
    "\n",
    "s3={1,2,3}\n",
    "s4={4,5,6}\n",
    "print (s3.isdisjoint(s4)) #Output: True\n",
    "\n",
    "s1={1,2,3,4,5}\n",
    "s2={4,5,6,7,8}\n",
    "print (s1.issubset(s2)) #Output: False\n",
    "\n",
    "s3={1,2,3}\n",
    "s4={1,2,3,4,5}\n",
    "print (s3.issubset(s4)) #Output: True\n",
    "\n",
    "s1={1,2,3,4,5}\n",
    "s2={4,5,6,7,8}\n",
    "print (s1.issuperset(s2)) #Output: False\n",
    "\n",
    "s3={1,2,3,4,5}\n",
    "s4={1,2,3}\n",
    "print (s3.issuperset(s4)) #Output: True"
   ]
  },
  {
   "cell_type": "code",
   "execution_count": 13,
   "metadata": {},
   "outputs": [
    {
     "name": "stdout",
     "output_type": "stream",
     "text": [
      "5\n",
      "1\n",
      "5\n",
      "15\n",
      "3\n",
      "blue\n",
      "red\n"
     ]
    }
   ],
   "source": [
    "s1={1,2,3,4,5}\n",
    "print (len(s1)) #Output:5\n",
    "print (min(s1))#Output:1\n",
    "print (max(s1)) #Output:5\n",
    "print (sum(s1)) #Output:15\n",
    "\n",
    "s2={'red','blue','green'}\n",
    "print (len(s2)) #Output:3\n",
    "print (min(s2))#Output:blue\n",
    "print (max(s2)) #Output:red"
   ]
  },
  {
   "cell_type": "markdown",
   "metadata": {},
   "source": [
    "## Question 4:\n",
    "Given a list of n-1 numbers ranging from 1 to n, your task is to find the missing number. There are no\n",
    "duplicates.\n",
    "Input Format:\n",
    "The first line contains n-1 numbers with each number separated by a space.\n",
    "Output Format:\n",
    "Print the missing number\n",
    "Example:\n",
    "Input:\n",
    "1 2 4 6 3 7 8\n",
    "Output:\n",
    "5\n",
    "Explanation:\n",
    "In the above list of numbers 5 is missing and hence 5 is the input"
   ]
  },
  {
   "cell_type": "code",
   "execution_count": 14,
   "metadata": {},
   "outputs": [
    {
     "name": "stdout",
     "output_type": "stream",
     "text": [
      "2 6 7 9 10 "
     ]
    }
   ],
   "source": [
    "def missing_no(li):\n",
    "    ma=max(li)\n",
    "    mi=min(li)\n",
    "    for i in range(mi,ma+1):\n",
    "        if i not in li:\n",
    "            print (i,end=\" \")\n",
    "            \n",
    "missing_no([1,4,5,3,8,11])"
   ]
  },
  {
   "cell_type": "markdown",
   "metadata": {},
   "source": [
    "## Question 5:\n",
    "With a given list L, write a program to print this list L after removing all duplicate values with original order\n",
    "reserved.\n",
    "Example:\n",
    "If the input list is\n",
    "12 24 35 24 88 120 155 88 120 155\n",
    "Then the output should be\n",
    "12 24 35 88 120 155\n",
    "Explanation:\n",
    "Third, the seventh and ninth element of the list L has been removed because it was already present.\n",
    "Input Format:\n",
    "In one line take the elements of the list L with each element separated by a space\n"
   ]
  },
  {
   "cell_type": "code",
   "execution_count": 15,
   "metadata": {},
   "outputs": [
    {
     "name": "stdout",
     "output_type": "stream",
     "text": [
      "[1, 2, 3, 4, 5]\n"
     ]
    }
   ],
   "source": [
    "def duplicate(a):\n",
    "    b=[]\n",
    "    [b.append(i) for i in a if i not in b]\n",
    "    print(b)\n",
    "\n",
    "duplicate([1,2,2,3,4,5,5,3,2,1])"
   ]
  },
  {
   "cell_type": "code",
   "execution_count": null,
   "metadata": {},
   "outputs": [],
   "source": []
  }
 ],
 "metadata": {
  "kernelspec": {
   "display_name": "Python 3",
   "language": "python",
   "name": "python3"
  },
  "language_info": {
   "codemirror_mode": {
    "name": "ipython",
    "version": 3
   },
   "file_extension": ".py",
   "mimetype": "text/x-python",
   "name": "python",
   "nbconvert_exporter": "python",
   "pygments_lexer": "ipython3",
   "version": "3.8.1"
  }
 },
 "nbformat": 4,
 "nbformat_minor": 4
}
