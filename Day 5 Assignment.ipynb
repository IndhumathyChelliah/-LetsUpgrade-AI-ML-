{
 "cells": [
  {
   "cell_type": "markdown",
   "metadata": {},
   "source": [
    "## 1. Write a python program to find the first 20 non even prime natural numbers"
   ]
  },
  {
   "cell_type": "code",
   "execution_count": null,
   "metadata": {},
   "outputs": [],
   "source": [
    "Number = 3\n",
    "count=0\n",
    "\n",
    "while (count<20):\n",
    "    notprime = 0\n",
    "    i = 2\n",
    "\n",
    "    while (i <= Number // 2):\n",
    "        if (Number % i == 0):\n",
    "            notprime = notprime + 1\n",
    "            break\n",
    "        i = i + 1\n",
    "\n",
    "    if (notprime == 0):\n",
    "        print(\" %d\" % Number, end='  ')\n",
    "        count+=1\n",
    "    Number = Number + 1"
   ]
  },
  {
   "cell_type": "markdown",
   "metadata": {},
   "source": [
    "## 2.Write a python to implement 15 functions of a string"
   ]
  },
  {
   "cell_type": "code",
   "execution_count": 1,
   "metadata": {},
   "outputs": [
    {
     "name": "stdout",
     "output_type": "stream",
     "text": [
      "Example of string methods\n",
      "Example Of String Methods\n",
      "EXAMPLE OF STRING METHODS\n",
      "example of string methods\n",
      "EXAMPLE of sTRING METHODS\n",
      "example of string methods\n",
      "True\n",
      "True\n",
      "False\n",
      "False\n",
      "['example', 'OF', 'String', 'methods']\n",
      "22\n",
      "egample OF String methods\n",
      "('example ', 'OF', ' String methods')\n",
      "************example OF String methods*************\n",
      "1\n"
     ]
    }
   ],
   "source": [
    "s1=\"example OF String methods\"\n",
    "print (s1.capitalize())\n",
    "print (s1.title())\n",
    "print (s1.upper())\n",
    "print (s1.lower())\n",
    "print (s1.swapcase())\n",
    "print (s1.casefold())\n",
    "print (s1.startswith(\"ex\"))\n",
    "print (s1.endswith(\"s\"))\n",
    "print (s1.isalpha())\n",
    "print (s1.isalnum())\n",
    "print (s1.split(\" \"))\n",
    "print (s1.find(\"o\"))\n",
    "print (s1.replace('x','g'))\n",
    "print (s1.partition(\"OF\"))\n",
    "print (s1.center(50,\"*\"))\n",
    "print (s1.count('o'))"
   ]
  },
  {
   "cell_type": "markdown",
   "metadata": {},
   "source": [
    "## 3.Write a python program to check if the given string is a palindrome or anagram or none of them. Display the mesage accordingly\n"
   ]
  },
  {
   "cell_type": "code",
   "execution_count": 3,
   "metadata": {},
   "outputs": [
    {
     "name": "stdout",
     "output_type": "stream",
     "text": [
      "The given string malayalam is a palindrome\n",
      "The given string python is not a palindrome\n"
     ]
    }
   ],
   "source": [
    "def ispal(s):\n",
    "    if s==s[::-1]:\n",
    "       print (\"The given string \" + s + \" is a palindrome\")\n",
    "    else:\n",
    "        print (\"The given string \"+s + \" is not a palindrome\" )\n",
    "\n",
    "ispal(\"malayalam\")\n",
    "ispal(\"python\")"
   ]
  },
  {
   "cell_type": "markdown",
   "metadata": {},
   "source": [
    "## 4. Write a python user defined function that removes all the additional characters from the string and convert it finally to lower case  using built in lower()."
   ]
  },
  {
   "cell_type": "code",
   "execution_count": 1,
   "metadata": {},
   "outputs": [
    {
     "name": "stdout",
     "output_type": "stream",
     "text": [
      "hellopython\n"
     ]
    }
   ],
   "source": [
    "def str1(s):\n",
    "    s1=''.join(e for e in s if e.isalnum())\n",
    "    s2=s1.lower()\n",
    "    return s2\n",
    "print (str1(\"Hello !@#$p yth@# o@#!n\"))"
   ]
  },
  {
   "cell_type": "code",
   "execution_count": null,
   "metadata": {},
   "outputs": [],
   "source": []
  }
 ],
 "metadata": {
  "kernelspec": {
   "display_name": "Python 3",
   "language": "python",
   "name": "python3"
  },
  "language_info": {
   "codemirror_mode": {
    "name": "ipython",
    "version": 3
   },
   "file_extension": ".py",
   "mimetype": "text/x-python",
   "name": "python",
   "nbconvert_exporter": "python",
   "pygments_lexer": "ipython3",
   "version": "3.8.1"
  }
 },
 "nbformat": 4,
 "nbformat_minor": 4
}
