{
 "cells": [
  {
   "cell_type": "markdown",
   "metadata": {},
   "source": [
    "## Question 1:\n",
    "Recreate “NB 21 map, filter, lambda.ipynb” to try different variations or perform different calculations from\n",
    "the ones that are in the NB\n"
   ]
  },
  {
   "cell_type": "code",
   "execution_count": 1,
   "metadata": {},
   "outputs": [
    {
     "name": "stdout",
     "output_type": "stream",
     "text": [
      "<map object at 0x05467928>\n",
      "[1, 8, 27, 64]\n",
      "['red', 'blue', 'green']\n"
     ]
    }
   ],
   "source": [
    "# applying square function to iterable.\n",
    "num=[1,2,3,4]\n",
    "\n",
    "def cube(x):\n",
    "    return x*x*x\n",
    "\n",
    "m=map(cube,num)\n",
    "print (m)\n",
    "print (list(m))\n",
    "\n",
    "#applying built-in fucntion to iterable\n",
    "\n",
    "colors=['RED','Blue','GREEN']\n",
    "m1=map(lambda x:x.lower(),colors)\n",
    "print (list(m1))"
   ]
  },
  {
   "cell_type": "code",
   "execution_count": 2,
   "metadata": {},
   "outputs": [
    {
     "name": "stdout",
     "output_type": "stream",
     "text": [
      "<filter object at 0x054677C0>\n",
      "[2, 4, 6]\n"
     ]
    }
   ],
   "source": [
    "\n",
    "num=[1,2,3,4,5,6]\n",
    "\n",
    "m=filter(lambda x:x%2==0,num)\n",
    "print (m)\n",
    "print (list(m))\n"
   ]
  },
  {
   "cell_type": "code",
   "execution_count": 3,
   "metadata": {},
   "outputs": [
    {
     "name": "stdout",
     "output_type": "stream",
     "text": [
      "red\n",
      "RED\n",
      "Yellow\n",
      "blue\n"
     ]
    }
   ],
   "source": [
    "l1=['red','RED','Yellow','blue','pink']\n",
    "#Without key function,it will compare based on lexicographic order\n",
    "print (max(l1))\n",
    "print (min(l1))\n",
    "\n",
    "print (max(l1,key=lambda x:x.lower()))\n",
    "print (min(l1,key=lambda x:x.lower()))"
   ]
  },
  {
   "cell_type": "code",
   "execution_count": 4,
   "metadata": {},
   "outputs": [
    {
     "name": "stdout",
     "output_type": "stream",
     "text": [
      "(3, 1, 1)\n",
      "(8, 5, 3)\n",
      "(1, 2, 3)\n",
      "(8, 5, 3)\n"
     ]
    }
   ],
   "source": [
    "l1=[(1,2,3),(3,1,1),(8,5,3),(3,4,2)]\n",
    "\n",
    "#Finding the largest/smallest item based on second element in the tuple.\n",
    "# lambda function returns second element in the tuple\n",
    "print (min(l1,key=lambda x:x[1]))\n",
    "\n",
    "print (max(l1,key=lambda x:x[1]))\n",
    "\n",
    "\n",
    "#Without key function\n",
    "#by default it will take the first element in the tuple.\n",
    "print (min(l1))\n",
    "print (max(l1))"
   ]
  },
  {
   "cell_type": "markdown",
   "metadata": {},
   "source": [
    "## Question 2:\n",
    "Recreate your own Python NB for “Classes and Objects” from the pdf provided namely\n",
    "“Classes&Objects.pdf”"
   ]
  },
  {
   "cell_type": "code",
   "execution_count": 5,
   "metadata": {},
   "outputs": [
    {
     "name": "stdout",
     "output_type": "stream",
     "text": [
      "karthi-Palani-12-third\n",
      "Sarvesh-Palani-15-first\n",
      "False\n"
     ]
    }
   ],
   "source": [
    "class Student:\n",
    "    def __init__(self, firstname, lastname, rollno, grade):\n",
    "        self.firstname = firstname\n",
    "        self.lastname = lastname\n",
    "        self.rollno = rollno\n",
    "        self.grade = grade\n",
    "\n",
    "    def __repr__(self):\n",
    "        return f\"{self.firstname}-{self.lastname}-{self.rollno}-{self.grade}\"\n",
    "\n",
    "    def __eq__(self, other):\n",
    "        return (self.firstname, self.lastname, self.rollno, self.grade) == (\n",
    "        other.firstname, other.lastname, other.rollno, other.grade)\n",
    "\n",
    "\n",
    "# Instantiating Student Objects\n",
    "s1 = Student(\"karthi\", \"Palani\", 12, \"third\")\n",
    "s2 = Student(\"Sarvesh\", \"Palani\", 15, \"first\")\n",
    "\n",
    "# objects representation is defined in __repr__() method.\n",
    "print(s1)\n",
    "\n",
    "print(s2)\n",
    "\n",
    "# performing equality operations by __eq__() method.\n",
    "print(s1 == s2)\n",
    "\n"
   ]
  },
  {
   "cell_type": "code",
   "execution_count": null,
   "metadata": {},
   "outputs": [],
   "source": []
  }
 ],
 "metadata": {
  "kernelspec": {
   "display_name": "Python 3",
   "language": "python",
   "name": "python3"
  },
  "language_info": {
   "codemirror_mode": {
    "name": "ipython",
    "version": 3
   },
   "file_extension": ".py",
   "mimetype": "text/x-python",
   "name": "python",
   "nbconvert_exporter": "python",
   "pygments_lexer": "ipython3",
   "version": "3.8.1"
  }
 },
 "nbformat": 4,
 "nbformat_minor": 4
}
