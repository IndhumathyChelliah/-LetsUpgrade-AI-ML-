{
 "cells": [
  {
   "cell_type": "markdown",
   "metadata": {},
   "source": [
    "## 1.Research on whether addition,subtraction,multiplication,division,floor division and modulo operations be performed on complex numbers.Based on your study implement a python program to demonstrate these operations.\n"
   ]
  },
  {
   "cell_type": "code",
   "execution_count": 1,
   "metadata": {},
   "outputs": [
    {
     "name": "stdout",
     "output_type": "stream",
     "text": [
      "(5+7j)\n",
      "(-1-1j)\n",
      "(-6+17j)\n",
      "(0.72+0.04j)\n"
     ]
    }
   ],
   "source": [
    "a=2+3j\n",
    "b=3+4j\n",
    "print (a+b)\n",
    "print (a-b)\n",
    "print (a*b)\n",
    "print (a/b)\n"
   ]
  },
  {
   "cell_type": "markdown",
   "metadata": {},
   "source": [
    "## floor division and modulo operations are not supported by complex numbers"
   ]
  },
  {
   "cell_type": "code",
   "execution_count": 7,
   "metadata": {},
   "outputs": [
    {
     "ename": "TypeError",
     "evalue": "can't take floor of complex number.",
     "output_type": "error",
     "traceback": [
      "\u001b[1;31m---------------------------------------------------------------------------\u001b[0m",
      "\u001b[1;31mTypeError\u001b[0m                                 Traceback (most recent call last)",
      "\u001b[1;32m<ipython-input-7-4d1964660029>\u001b[0m in \u001b[0;36m<module>\u001b[1;34m\u001b[0m\n\u001b[0;32m      1\u001b[0m \u001b[0ma\u001b[0m\u001b[1;33m=\u001b[0m\u001b[1;36m2\u001b[0m\u001b[1;33m+\u001b[0m\u001b[1;36m3j\u001b[0m\u001b[1;33m\u001b[0m\u001b[1;33m\u001b[0m\u001b[0m\n\u001b[0;32m      2\u001b[0m \u001b[0mb\u001b[0m\u001b[1;33m=\u001b[0m\u001b[1;36m3\u001b[0m\u001b[1;33m+\u001b[0m\u001b[1;36m4j\u001b[0m\u001b[1;33m\u001b[0m\u001b[1;33m\u001b[0m\u001b[0m\n\u001b[1;32m----> 3\u001b[1;33m \u001b[0mprint\u001b[0m \u001b[1;33m(\u001b[0m\u001b[0ma\u001b[0m\u001b[1;33m//\u001b[0m\u001b[0mb\u001b[0m\u001b[1;33m)\u001b[0m\u001b[1;33m\u001b[0m\u001b[1;33m\u001b[0m\u001b[0m\n\u001b[0m",
      "\u001b[1;31mTypeError\u001b[0m: can't take floor of complex number."
     ]
    }
   ],
   "source": [
    "a=2+3j\n",
    "b=3+4j\n",
    "print (a//b)"
   ]
  },
  {
   "cell_type": "markdown",
   "metadata": {},
   "source": [
    "## 2. Research on range() function and its parameters.Implement a small program of your choice on the same."
   ]
  },
  {
   "cell_type": "markdown",
   "metadata": {},
   "source": [
    "### Range is a sequence type which generates immutable sequence of numbers. \n",
    "Syntax \n",
    "range(stop)\n",
    "range(start,stop,step)\n",
    "\n",
    "range(5) - will generate sequence of numebrs from 0 to 4  [stop given as 5]\n",
    "range(1,5) - will genenerate sequence of numbers from 1 to 4 [start given as 1 and stop given as 5]\n",
    "range(1,10,2) - will generate sequence of numbers from 1 to 9 increment by 2.[start given as 1 stop given as 9 step is given as 2]\n",
    "\n",
    "Return type will be a range object which is a range object.\n",
    "It is iterator. We can iterate thorugh the range object using for loop, or next() or converting to list using list() constructor.\n",
    "\n"
   ]
  },
  {
   "cell_type": "code",
   "execution_count": 3,
   "metadata": {},
   "outputs": [
    {
     "name": "stdout",
     "output_type": "stream",
     "text": [
      "[0, 1, 2, 3, 4, 5, 6, 7, 8, 9]\n",
      "[0, 1, 2, 3, 4, 5, 6, 7, 8, 9]\n",
      "5 6 7 8 9 "
     ]
    }
   ],
   "source": [
    "r=range(10)\n",
    "print (list(r))\n",
    "\n",
    "r1=range(1,10,2)\n",
    "print (list(r))\n",
    "\n",
    "for i  in range(5,10):\n",
    "    print (i,end=\" \")"
   ]
  },
  {
   "cell_type": "markdown",
   "metadata": {},
   "source": [
    "## 3. Consider two numbers.Perform subtraction if result of subtraction greater than 25,print their multiplication result else print the division result"
   ]
  },
  {
   "cell_type": "code",
   "execution_count": 4,
   "metadata": {},
   "outputs": [
    {
     "name": "stdout",
     "output_type": "stream",
     "text": [
      "0.8\n",
      "30\n"
     ]
    }
   ],
   "source": [
    "def num(a,b):\n",
    "    if (a-b)>5:\n",
    "        print (a*b)\n",
    "    else:\n",
    "        print (a/b)\n",
    "\n",
    "num(4,5)\n",
    "num(15,2)"
   ]
  },
  {
   "cell_type": "markdown",
   "metadata": {},
   "source": [
    "## 4. Consider a list of 10 elements of integer values.If the number in the list is divisible by 2,print the result as 'square of that number minus 2'"
   ]
  },
  {
   "cell_type": "code",
   "execution_count": 5,
   "metadata": {},
   "outputs": [
    {
     "name": "stdout",
     "output_type": "stream",
     "text": [
      "2 14 34 62 98 "
     ]
    }
   ],
   "source": [
    "l1=[1,2,3,4,5,6,7,8,9,10]\n",
    "for i in l1:\n",
    "    if i%2==0:\n",
    "        i=(i*i) -2\n",
    "        print (i,end=\" \")"
   ]
  },
  {
   "cell_type": "markdown",
   "metadata": {},
   "source": [
    "## Consider a list of 10 elements. Print all the elements in the list which are greater than 7 when that number is divided by 2"
   ]
  },
  {
   "cell_type": "code",
   "execution_count": 6,
   "metadata": {},
   "outputs": [
    {
     "name": "stdout",
     "output_type": "stream",
     "text": [
      "15 20 25 30 35 40 45 50 "
     ]
    }
   ],
   "source": [
    "l1=[1,5,10,15,20,25,30,35,40,45,50]\n",
    "for i in l1:\n",
    "    if (i/2)>7:\n",
    "        print (i , end=\" \")"
   ]
  },
  {
   "cell_type": "code",
   "execution_count": null,
   "metadata": {},
   "outputs": [],
   "source": []
  }
 ],
 "metadata": {
  "kernelspec": {
   "display_name": "Python 3",
   "language": "python",
   "name": "python3"
  },
  "language_info": {
   "codemirror_mode": {
    "name": "ipython",
    "version": 3
   },
   "file_extension": ".py",
   "mimetype": "text/x-python",
   "name": "python",
   "nbconvert_exporter": "python",
   "pygments_lexer": "ipython3",
   "version": "3.8.1"
  }
 },
 "nbformat": 4,
 "nbformat_minor": 4
}
